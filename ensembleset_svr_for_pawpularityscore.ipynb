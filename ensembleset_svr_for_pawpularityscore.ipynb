{
  "metadata": {
    "kernelspec": {
      "language": "python",
      "display_name": "Python 3",
      "name": "python3"
    },
    "language_info": {
      "name": "python",
      "version": "3.10.13",
      "mimetype": "text/x-python",
      "codemirror_mode": {
        "name": "ipython",
        "version": 3
      },
      "pygments_lexer": "ipython3",
      "nbconvert_exporter": "python",
      "file_extension": ".py"
    },
    "kaggle": {
      "accelerator": "none",
      "dataSources": [
        {
          "sourceId": 25383,
          "databundleVersionId": 2684322,
          "sourceType": "competition"
        },
        {
          "sourceId": 1677248,
          "sourceType": "datasetVersion",
          "datasetId": 993628
        },
        {
          "sourceId": 9202586,
          "sourceType": "datasetVersion",
          "datasetId": 5563650
        },
        {
          "sourceId": 9203244,
          "sourceType": "datasetVersion",
          "datasetId": 5547106
        },
        {
          "sourceId": 3735,
          "sourceType": "modelInstanceVersion",
          "modelInstanceId": 2662,
          "modelId": 312
        },
        {
          "sourceId": 3741,
          "sourceType": "modelInstanceVersion",
          "modelInstanceId": 2668,
          "modelId": 312
        },
        {
          "sourceId": 4553,
          "sourceType": "modelInstanceVersion",
          "modelInstanceId": 3345,
          "modelId": 1030
        },
        {
          "sourceId": 4554,
          "sourceType": "modelInstanceVersion",
          "modelInstanceId": 3346,
          "modelId": 1030
        },
        {
          "sourceId": 4556,
          "sourceType": "modelInstanceVersion",
          "modelInstanceId": 3348,
          "modelId": 1030
        }
      ],
      "dockerImageVersionId": 30747,
      "isInternetEnabled": false,
      "language": "python",
      "sourceType": "notebook",
      "isGpuEnabled": false
    },
    "colab": {
      "provenance": []
    }
  },
  "nbformat_minor": 0,
  "nbformat": 4,
  "cells": [
    {
      "cell_type": "code",
      "source": [
        "# import all necessory libraries\n",
        "import numpy as np\n",
        "import pandas as pd\n",
        "import os\n",
        "from tqdm import tqdm\n",
        "\n",
        "import torch\n",
        "from torchvision import datasets, transforms\n",
        "from torch.utils.data import Dataset, DataLoader\n",
        "import gc         # garbage collect library\n",
        "\n",
        "\n",
        "import timm\n",
        "from timm.data import resolve_data_config\n",
        "from timm.data.transforms_factory import create_transform\n",
        "\n",
        "\n",
        "from PIL import Image\n",
        "\n",
        "\n",
        "from sklearn.decomposition import PCA\n"
      ],
      "metadata": {
        "_uuid": "8f2839f25d086af736a60e9eeb907d3b93b6e0e5",
        "_cell_guid": "b1076dfc-b9ad-4769-8c92-a6c4dae69d19",
        "execution": {
          "iopub.status.busy": "2024-08-20T07:49:08.323093Z",
          "iopub.execute_input": "2024-08-20T07:49:08.323443Z",
          "iopub.status.idle": "2024-08-20T07:49:16.647845Z",
          "shell.execute_reply.started": "2024-08-20T07:49:08.323413Z",
          "shell.execute_reply": "2024-08-20T07:49:16.647005Z"
        },
        "trusted": true,
        "id": "mwPcahB6zXqk"
      },
      "outputs": [],
      "execution_count": null
    },
    {
      "cell_type": "markdown",
      "source": [
        "Below we will setup device to cpu or repestive gpu as available.\\\n",
        "Note that there is library named **cuML** which does the SVR calculation faster (using GPU accelerators). While experimenting it was only working with **Tesla T4 GPU**, hence the code below will setup the SVR if the Tesla T4 GPU is available else **sklearn** can be use to compute SVR."
      ],
      "metadata": {
        "id": "UjgcSIMQzXql"
      }
    },
    {
      "cell_type": "code",
      "source": [
        "if torch.cuda.is_available():\n",
        "    device = 'cuda'\n",
        "    device_name = torch.cuda.get_device_name()\n",
        "else:\n",
        "    device = 'cpu'\n",
        "    device_name = 'cpu'\n",
        "\n",
        "print('device : ', device)\n",
        "print('name   : ', device_name)\n",
        "\n",
        "#device = 'cuda' if torch.cuda.is_available() else 'cpu'\n",
        "#device_name = torch.cuda.get_device_name()\n",
        "\n",
        "if device == 'cuda' and device_name=='Tesla T4':\n",
        "    print('\\n--- cuML ---')\n",
        "    import cuml\n",
        "    from cuml.svm import SVR\n",
        "else:\n",
        "    print('\\n--- sklearn ---')\n",
        "    from sklearn.svm import SVR"
      ],
      "metadata": {
        "execution": {
          "iopub.status.busy": "2024-08-20T07:49:16.649425Z",
          "iopub.execute_input": "2024-08-20T07:49:16.649726Z",
          "iopub.status.idle": "2024-08-20T07:49:23.856756Z",
          "shell.execute_reply.started": "2024-08-20T07:49:16.649700Z",
          "shell.execute_reply": "2024-08-20T07:49:23.855905Z"
        },
        "trusted": true,
        "id": "DIQKC8tbzXqm",
        "outputId": "66d71ab2-2b9c-4fb1-9cca-1cd7beba08f8"
      },
      "outputs": [
        {
          "name": "stdout",
          "text": "device :  cuda\nname   :  Tesla T4\n\n--- cuML ---\n",
          "output_type": "stream"
        }
      ],
      "execution_count": null
    },
    {
      "cell_type": "code",
      "source": [
        "directory = \"/kaggle/input/petfinder-pawpularity-score\"\n",
        "Extracted_Data_directory = '/kaggle/input/extracted-features-pawpularity'\n",
        "\n",
        "train_df = pd.read_csv(os.path.join(directory, 'train.csv'))\n",
        "\n",
        "test_df = pd.read_csv(os.path.join(directory, 'test.csv'))\n",
        "\n",
        "print('Train samples: ', len(train_df),\n",
        "      '\\nTrain samples: ', len(test_df), '\\n')\n"
      ],
      "metadata": {
        "execution": {
          "iopub.status.busy": "2024-08-20T07:49:23.857967Z",
          "iopub.execute_input": "2024-08-20T07:49:23.858528Z",
          "iopub.status.idle": "2024-08-20T07:49:23.898846Z",
          "shell.execute_reply.started": "2024-08-20T07:49:23.858495Z",
          "shell.execute_reply": "2024-08-20T07:49:23.897629Z"
        },
        "trusted": true,
        "id": "sqzIYTRszXqn",
        "outputId": "5ffad9f4-e42b-4577-a051-c3b9bdff942f"
      },
      "outputs": [
        {
          "name": "stdout",
          "text": "Train samples:  9912 \nTrain samples:  8 \n\n",
          "output_type": "stream"
        }
      ],
      "execution_count": null
    },
    {
      "cell_type": "markdown",
      "source": [
        "# Specify Inputs (all models)\n",
        "\n",
        "To save time while training, every model's output is saved in {model_name}.npz files with respective model names. If required to extract the output from model instead of saved .npz, make the necessary changes in below code"
      ],
      "metadata": {
        "id": "Y51kMvA9zXqo"
      }
    },
    {
      "cell_type": "code",
      "source": [
        "ExtractFromModel = False\n",
        "Save = False\n",
        "ExtractFromSaved = True\n",
        "\n",
        "ExtractFrom = [ExtractFromModel, Save, ExtractFromSaved]"
      ],
      "metadata": {
        "execution": {
          "iopub.status.busy": "2024-08-20T07:49:23.900936Z",
          "iopub.execute_input": "2024-08-20T07:49:23.901257Z",
          "iopub.status.idle": "2024-08-20T07:49:23.906212Z",
          "shell.execute_reply.started": "2024-08-20T07:49:23.901229Z",
          "shell.execute_reply": "2024-08-20T07:49:23.905006Z"
        },
        "trusted": true,
        "id": "P4eLu0UtzXqo"
      },
      "outputs": [],
      "execution_count": null
    },
    {
      "cell_type": "markdown",
      "source": [
        "# Feature Extractor for All model"
      ],
      "metadata": {
        "id": "Zd_BBDyJzXqq"
      }
    },
    {
      "cell_type": "code",
      "source": [
        "def ExtractModelFeature(Dataloader, model, Train_PCA=False):\n",
        "    X = []\n",
        "    for img in tqdm(Dataloader):\n",
        "        with torch.no_grad():\n",
        "            if model.__class__.__name__ == 'EfficientNet':\n",
        "                x = model(img.to(device))\n",
        "            elif model.__class__.__name__ == 'CLIPModel':\n",
        "                x = model.get_image_features(**img.to(device))\n",
        "            elif model.__class__.__name__ == 'VisionTransformer':\n",
        "                x = model(img.to(device))\n",
        "            elif model.__class__.__name__ == 'SwinTransformer':\n",
        "                x = model(img.to(device))\n",
        "            elif model.__class__.__name__ == 'Beit':\n",
        "                x = model(img.to(device))\n",
        "            elif model.__class__.__name__ == 'PCA':\n",
        "                x = img\n",
        "            else:\n",
        "                raise Exception(\"Check if model is implimented !\")\n",
        "\n",
        "        X.append(x.cpu().detach().numpy())\n",
        "\n",
        "    X = np.concatenate(X, axis=0)\n",
        "\n",
        "    if model.__class__.__name__ == 'PCA':\n",
        "        if Train_PCA:\n",
        "            model.fit(X)\n",
        "            X = model.transform(X)\n",
        "            return X, model\n",
        "        else:\n",
        "            return model.transform(X)\n",
        "\n",
        "    return X"
      ],
      "metadata": {
        "execution": {
          "iopub.status.busy": "2024-08-20T07:49:23.920525Z",
          "iopub.execute_input": "2024-08-20T07:49:23.920768Z",
          "iopub.status.idle": "2024-08-20T07:49:23.931769Z",
          "shell.execute_reply.started": "2024-08-20T07:49:23.920748Z",
          "shell.execute_reply": "2024-08-20T07:49:23.930656Z"
        },
        "trusted": true,
        "id": "7hZHnuFCzXqq"
      },
      "outputs": [],
      "execution_count": null
    },
    {
      "cell_type": "code",
      "source": [
        "Train_Features_dict = {}\n",
        "Test_Features_dict = {}\n",
        "\n",
        "Train_Features_dict_Flip = {}\n",
        "Test_Features_dict_Flip = {}"
      ],
      "metadata": {
        "execution": {
          "iopub.status.busy": "2024-08-20T07:49:23.932995Z",
          "iopub.execute_input": "2024-08-20T07:49:23.933266Z",
          "iopub.status.idle": "2024-08-20T07:49:23.947095Z",
          "shell.execute_reply.started": "2024-08-20T07:49:23.933242Z",
          "shell.execute_reply": "2024-08-20T07:49:23.946125Z"
        },
        "trusted": true,
        "id": "4W5ezJPWzXqr"
      },
      "outputs": [],
      "execution_count": null
    },
    {
      "cell_type": "markdown",
      "source": [
        "# EfficientNet"
      ],
      "metadata": {
        "id": "7dYOuB3DzXqr"
      }
    },
    {
      "cell_type": "code",
      "source": [
        "\n",
        "class dataset_EfficientNet:\n",
        "    def __init__(self, df, directory, transform, doflip=False, test=False):\n",
        "        self.df = df\n",
        "        self.directory = directory\n",
        "        self.transform = transform\n",
        "        self.doflip = doflip\n",
        "        self.test = test\n",
        "\n",
        "    def __len__(self):\n",
        "        return len(self.df)\n",
        "\n",
        "    def __getitem__(self, idx):\n",
        "        split = 'test' if self.test else 'train'\n",
        "        filename = self.df.Id[idx]\n",
        "        address = os.path.join(self.directory, split, filename+'.jpg')\n",
        "        img = Image.open(address).convert('RGB')\n",
        "\n",
        "        if self.doflip==True:\n",
        "            img = img.transpose(Image.FLIP_LEFT_RIGHT)\n",
        "            width, height = img.size\n",
        "            img = img.crop((0.0*width, 0.02*height, 0.98*width, 0.98 * height))\n",
        "\n",
        "        image = self.transform(img) # transform and add batch dimension\n",
        "\n",
        "        return image\n"
      ],
      "metadata": {
        "execution": {
          "iopub.status.busy": "2024-08-20T07:49:23.948313Z",
          "iopub.execute_input": "2024-08-20T07:49:23.948622Z",
          "iopub.status.idle": "2024-08-20T07:49:23.957985Z",
          "shell.execute_reply.started": "2024-08-20T07:49:23.948599Z",
          "shell.execute_reply": "2024-08-20T07:49:23.957220Z"
        },
        "trusted": true,
        "id": "Bq6wQRA2zXqs"
      },
      "outputs": [],
      "execution_count": null
    },
    {
      "cell_type": "code",
      "source": [
        "## EfficientNet_L2\n",
        "\n",
        "ckp_path = '/kaggle/input/tf-efficientnet/pytorch/tf-efficientnet-l2-ns-475/1/tf_efficientnet_l2_ns_475-bebbd00a.pth'\n",
        "model_eff_2 = timm.create_model('tf_efficientnet_l2_ns_475', checkpoint_path=ckp_path)\n",
        "\n",
        "config = resolve_data_config({}, model=model_eff_2)\n",
        "transform_2 = create_transform(**config)\n",
        "\n",
        "model_eff_2.eval()\n",
        "model_eff_2 = model_eff_2.to(device)\n"
      ],
      "metadata": {
        "execution": {
          "iopub.status.busy": "2024-08-20T07:49:23.975254Z",
          "iopub.execute_input": "2024-08-20T07:49:23.975658Z",
          "iopub.status.idle": "2024-08-20T07:49:51.574897Z",
          "shell.execute_reply.started": "2024-08-20T07:49:23.975628Z",
          "shell.execute_reply": "2024-08-20T07:49:51.573847Z"
        },
        "trusted": true,
        "id": "J7RVBQ_nzXqt",
        "outputId": "b246ea24-4403-4cad-d16a-ab242a23a5cc"
      },
      "outputs": [
        {
          "name": "stderr",
          "text": "/opt/conda/lib/python3.10/site-packages/timm/models/_factory.py:117: UserWarning: Mapping deprecated model name tf_efficientnet_l2_ns_475 to current tf_efficientnet_l2.ns_jft_in1k_475.\n  model = create_fn(\n",
          "output_type": "stream"
        }
      ],
      "execution_count": null
    },
    {
      "cell_type": "code",
      "source": [
        "from torchinfo import summary\n",
        "print(summary(model_eff_2))"
      ],
      "metadata": {
        "execution": {
          "iopub.status.busy": "2024-08-20T08:08:08.856977Z",
          "iopub.execute_input": "2024-08-20T08:08:08.857352Z",
          "iopub.status.idle": "2024-08-20T08:08:09.035653Z",
          "shell.execute_reply.started": "2024-08-20T08:08:08.857318Z",
          "shell.execute_reply": "2024-08-20T08:08:09.034712Z"
        },
        "trusted": true,
        "id": "5RWAk7bXzXqu",
        "outputId": "b96cfb03-84c7-43df-cce5-907f8a0a90d0"
      },
      "outputs": [
        {
          "name": "stdout",
          "text": "======================================================================\nLayer (type:depth-idx)                        Param #\n======================================================================\nEfficientNet                                  --\n├─Conv2dSame: 1-1                             3,672\n├─BatchNormAct2d: 1-2                         272\n│    └─Identity: 2-1                          --\n│    └─SiLU: 2-2                              --\n├─Sequential: 1-3                             --\n│    └─Sequential: 2-3                        --\n│    │    └─DepthwiseSeparableConv: 3-1       20,850\n│    │    └─DepthwiseSeparableConv: 3-2       8,802\n│    │    └─DepthwiseSeparableConv: 3-3       8,802\n│    │    └─DepthwiseSeparableConv: 3-4       8,802\n│    │    └─DepthwiseSeparableConv: 3-5       8,802\n│    │    └─DepthwiseSeparableConv: 3-6       8,802\n│    └─Sequential: 2-4                        --\n│    │    └─InvertedResidual: 3-7             97,858\n│    │    └─InvertedResidual: 3-8             171,210\n│    │    └─InvertedResidual: 3-9             171,210\n│    │    └─InvertedResidual: 3-10            171,210\n│    │    └─InvertedResidual: 3-11            171,210\n│    │    └─InvertedResidual: 3-12            171,210\n│    │    └─InvertedResidual: 3-13            171,210\n│    │    └─InvertedResidual: 3-14            171,210\n│    │    └─InvertedResidual: 3-15            171,210\n│    │    └─InvertedResidual: 3-16            171,210\n│    │    └─InvertedResidual: 3-17            171,210\n│    └─Sequential: 2-5                        --\n│    │    └─InvertedResidual: 3-18            226,266\n│    │    └─InvertedResidual: 3-19            496,716\n│    │    └─InvertedResidual: 3-20            496,716\n│    │    └─InvertedResidual: 3-21            496,716\n│    │    └─InvertedResidual: 3-22            496,716\n│    │    └─InvertedResidual: 3-23            496,716\n│    │    └─InvertedResidual: 3-24            496,716\n│    │    └─InvertedResidual: 3-25            496,716\n│    │    └─InvertedResidual: 3-26            496,716\n│    │    └─InvertedResidual: 3-27            496,716\n│    │    └─InvertedResidual: 3-28            496,716\n│    └─Sequential: 2-6                        --\n│    │    └─InvertedResidual: 3-29            657,564\n│    │    └─InvertedResidual: 3-30            1,804,710\n│    │    └─InvertedResidual: 3-31            1,804,710\n│    │    └─InvertedResidual: 3-32            1,804,710\n│    │    └─InvertedResidual: 3-33            1,804,710\n│    │    └─InvertedResidual: 3-34            1,804,710\n│    │    └─InvertedResidual: 3-35            1,804,710\n│    │    └─InvertedResidual: 3-36            1,804,710\n│    │    └─InvertedResidual: 3-37            1,804,710\n│    │    └─InvertedResidual: 3-38            1,804,710\n│    │    └─InvertedResidual: 3-39            1,804,710\n│    │    └─InvertedResidual: 3-40            1,804,710\n│    │    └─InvertedResidual: 3-41            1,804,710\n│    │    └─InvertedResidual: 3-42            1,804,710\n│    │    └─InvertedResidual: 3-43            1,804,710\n│    │    └─InvertedResidual: 3-44            1,804,710\n│    └─Sequential: 2-7                        --\n│    │    └─InvertedResidual: 3-45            2,118,710\n│    │    └─InvertedResidual: 3-46            3,543,480\n│    │    └─InvertedResidual: 3-47            3,543,480\n│    │    └─InvertedResidual: 3-48            3,543,480\n│    │    └─InvertedResidual: 3-49            3,543,480\n│    │    └─InvertedResidual: 3-50            3,543,480\n│    │    └─InvertedResidual: 3-51            3,543,480\n│    │    └─InvertedResidual: 3-52            3,543,480\n│    │    └─InvertedResidual: 3-53            3,543,480\n│    │    └─InvertedResidual: 3-54            3,543,480\n│    │    └─InvertedResidual: 3-55            3,543,480\n│    │    └─InvertedResidual: 3-56            3,543,480\n│    │    └─InvertedResidual: 3-57            3,543,480\n│    │    └─InvertedResidual: 3-58            3,543,480\n│    │    └─InvertedResidual: 3-59            3,543,480\n│    │    └─InvertedResidual: 3-60            3,543,480\n│    └─Sequential: 2-8                        --\n│    │    └─InvertedResidual: 3-61            4,534,888\n│    │    └─InvertedResidual: 3-62            10,334,814\n│    │    └─InvertedResidual: 3-63            10,334,814\n│    │    └─InvertedResidual: 3-64            10,334,814\n│    │    └─InvertedResidual: 3-65            10,334,814\n│    │    └─InvertedResidual: 3-66            10,334,814\n│    │    └─InvertedResidual: 3-67            10,334,814\n│    │    └─InvertedResidual: 3-68            10,334,814\n│    │    └─InvertedResidual: 3-69            10,334,814\n│    │    └─InvertedResidual: 3-70            10,334,814\n│    │    └─InvertedResidual: 3-71            10,334,814\n│    │    └─InvertedResidual: 3-72            10,334,814\n│    │    └─InvertedResidual: 3-73            10,334,814\n│    │    └─InvertedResidual: 3-74            10,334,814\n│    │    └─InvertedResidual: 3-75            10,334,814\n│    │    └─InvertedResidual: 3-76            10,334,814\n│    │    └─InvertedResidual: 3-77            10,334,814\n│    │    └─InvertedResidual: 3-78            10,334,814\n│    │    └─InvertedResidual: 3-79            10,334,814\n│    │    └─InvertedResidual: 3-80            10,334,814\n│    │    └─InvertedResidual: 3-81            10,334,814\n│    │    └─InvertedResidual: 3-82            10,334,814\n│    └─Sequential: 2-9                        --\n│    │    └─InvertedResidual: 3-83            12,985,902\n│    │    └─InvertedResidual: 3-84            28,519,320\n│    │    └─InvertedResidual: 3-85            28,519,320\n│    │    └─InvertedResidual: 3-86            28,519,320\n│    │    └─InvertedResidual: 3-87            28,519,320\n│    │    └─InvertedResidual: 3-88            28,519,320\n├─Conv2d: 1-4                                 7,573,504\n├─BatchNormAct2d: 1-5                         11,008\n│    └─Identity: 2-10                         --\n│    └─SiLU: 2-11                             --\n├─SelectAdaptivePool2d: 1-6                   --\n│    └─AdaptiveAvgPool2d: 2-12                --\n│    └─Flatten: 2-13                          --\n├─Linear: 1-7                                 5,505,000\n======================================================================\nTotal params: 480,309,308\nTrainable params: 480,309,308\nNon-trainable params: 0\n======================================================================\n",
          "output_type": "stream"
        }
      ],
      "execution_count": null
    },
    {
      "cell_type": "code",
      "source": [
        "\n",
        "def EfficientNet_Extract(train_df, test_df, transform, model_eff, ExtractFrom, doflip, Filename, Train_Features_dict, Test_Features_dict):\n",
        "    print('\\n---Extracting features: ' + Filename.split('.')[0] + '---')\n",
        "    ExtractFromModel, Save, ExtractFromSaved = ExtractFrom\n",
        "\n",
        "\n",
        "    if ExtractFromModel and not ExtractFromSaved:\n",
        "        train_dataset = dataset_EfficientNet(train_df, directory, transform, doflip=doflip, test=False)\n",
        "        train_dataloader = DataLoader(train_dataset, batch_size=16, shuffle=False)\n",
        "\n",
        "        test_dataset = dataset_EfficientNet(test_df, directory, transform, test=True)\n",
        "        test_dataloader = DataLoader(test_dataset, batch_size=16, shuffle=False)\n",
        "\n",
        "\n",
        "        X = ExtractModelFeature(train_dataloader, model_eff)\n",
        "        X_test = ExtractModelFeature(test_dataloader, model_eff)\n",
        "\n",
        "        if Save==True:\n",
        "            with open(Filename, 'wb') as f:\n",
        "                np.save(f, X)\n",
        "                np.save(f, X_test)\n",
        "\n",
        "    elif ExtractFromSaved and not ExtractFromModel:\n",
        "        FilePath = os.path.join(Extracted_Data_directory, Filename)\n",
        "        with open(FilePath, 'rb') as f:\n",
        "            X = np.load(f)\n",
        "\n",
        "        test_dataset = dataset_EfficientNet(test_df, directory, transform, doflip=doflip, test=True)\n",
        "        test_dataloader = DataLoader(test_dataset, batch_size=16, shuffle=False)\n",
        "        X_test = ExtractModelFeature(test_dataloader, model_eff)\n",
        "\n",
        "\n",
        "    else:\n",
        "        raise Exception(\"Please Select appropriate option\")\n",
        "\n",
        "\n",
        "    if ExtractFromModel or ExtractFromSaved:\n",
        "        print('train: ', X.shape)\n",
        "        print('test: ', X_test.shape)\n",
        "\n",
        "        name = Filename.split('.')[0]\n",
        "        Train_Features_dict[name] = X\n",
        "        Test_Features_dict[name] = X_test\n"
      ],
      "metadata": {
        "execution": {
          "iopub.status.busy": "2024-08-19T18:31:26.782755Z",
          "iopub.execute_input": "2024-08-19T18:31:26.783139Z",
          "iopub.status.idle": "2024-08-19T18:31:26.794536Z",
          "shell.execute_reply.started": "2024-08-19T18:31:26.783095Z",
          "shell.execute_reply": "2024-08-19T18:31:26.793609Z"
        },
        "trusted": true,
        "id": "DsBw_OF4zXqu"
      },
      "outputs": [],
      "execution_count": null
    },
    {
      "cell_type": "code",
      "source": [
        "\n",
        "doflip = False\n",
        "\n",
        "## EfficientNet_l2_ns_475\n",
        "Filename = 'EfficientNet_l2_ns_475.npy'\n",
        "EfficientNet_Extract(train_df, test_df, transform_2, model_eff_2, ExtractFrom, doflip, Filename, Train_Features_dict, Test_Features_dict)\n"
      ],
      "metadata": {
        "execution": {
          "iopub.status.busy": "2024-08-19T18:31:27.841977Z",
          "iopub.execute_input": "2024-08-19T18:31:27.842336Z",
          "iopub.status.idle": "2024-08-19T18:31:35.335659Z",
          "shell.execute_reply.started": "2024-08-19T18:31:27.842311Z",
          "shell.execute_reply": "2024-08-19T18:31:35.334341Z"
        },
        "trusted": true,
        "id": "7wGFlSB_zXqv"
      },
      "outputs": [],
      "execution_count": null
    },
    {
      "cell_type": "code",
      "source": [
        "doflip = True\n",
        "\n",
        "## EfficientNet_l2_ns_475_Flip\n",
        "Filename = 'EfficientNet_l2_ns_475_Flip.npy'\n",
        "EfficientNet_Extract(train_df, test_df, transform_2, model_eff_2, ExtractFrom, doflip, Filename, Train_Features_dict_Flip, Test_Features_dict_Flip)\n"
      ],
      "metadata": {
        "execution": {
          "iopub.status.busy": "2024-08-19T18:18:24.266287Z",
          "iopub.execute_input": "2024-08-19T18:18:24.266573Z",
          "iopub.status.idle": "2024-08-19T18:18:26.032986Z",
          "shell.execute_reply.started": "2024-08-19T18:18:24.266549Z",
          "shell.execute_reply": "2024-08-19T18:18:26.032115Z"
        },
        "trusted": true,
        "id": "0oWIbZeQzXqv"
      },
      "outputs": [],
      "execution_count": null
    },
    {
      "cell_type": "code",
      "source": [
        "del model_eff_2\n",
        "gc.collect()\n",
        "torch.cuda.empty_cache()"
      ],
      "metadata": {
        "execution": {
          "iopub.status.busy": "2024-08-19T18:18:26.034060Z",
          "iopub.execute_input": "2024-08-19T18:18:26.034367Z",
          "iopub.status.idle": "2024-08-19T18:18:26.354589Z",
          "shell.execute_reply.started": "2024-08-19T18:18:26.034343Z",
          "shell.execute_reply": "2024-08-19T18:18:26.353751Z"
        },
        "trusted": true,
        "id": "gdcQCF64zXqv"
      },
      "outputs": [],
      "execution_count": null
    },
    {
      "cell_type": "markdown",
      "source": [
        "# ViT"
      ],
      "metadata": {
        "id": "01xIahFUzXqx"
      }
    },
    {
      "cell_type": "code",
      "source": [
        "# Vit Model\n",
        "MODEL_PATH_1 = \"/kaggle/input/vit-base-models-pretrained-pytorch/jx_vit_base_p16_224-80ecf9dd.pth\"\n",
        "model_vit_1 = timm.create_model(\"vit_base_patch16_224\", pretrained=False)\n",
        "model_vit_1.load_state_dict(torch.load(MODEL_PATH_1))\n",
        "\n",
        "config = resolve_data_config({}, model=model_vit_1)\n",
        "transform_1 = create_transform(**config)\n",
        "\n",
        "model_vit_1 = model_vit_1.to(device)\n",
        "\n",
        "\n",
        "# Vit Model\n",
        "MODEL_PATH_2 = \"/kaggle/input/vit-base-models-pretrained-pytorch/jx_vit_base_p16_384-83fb41ba.pth\"\n",
        "model_vit_2 = timm.create_model(\"vit_base_patch16_384\", pretrained=False)\n",
        "model_vit_2.load_state_dict(torch.load(MODEL_PATH_2))\n",
        "\n",
        "config = resolve_data_config({}, model=model_vit_2)\n",
        "transform_2 = create_transform(**config)\n",
        "\n",
        "model_vit_2 = model_vit_2.to(device)"
      ],
      "metadata": {
        "execution": {
          "iopub.status.busy": "2024-08-20T07:55:10.206132Z",
          "iopub.execute_input": "2024-08-20T07:55:10.206569Z",
          "iopub.status.idle": "2024-08-20T07:55:21.243044Z",
          "shell.execute_reply.started": "2024-08-20T07:55:10.206534Z",
          "shell.execute_reply": "2024-08-20T07:55:21.242222Z"
        },
        "trusted": true,
        "id": "XGCT0qi3zXqy"
      },
      "outputs": [],
      "execution_count": null
    },
    {
      "cell_type": "code",
      "source": [
        "# Vit Model\n",
        "MODEL_PATH_3 = \"/kaggle/input/vit-base-models-pretrained-pytorch/jx_vit_base_p32_384-830016f5.pth\"\n",
        "model_vit_3 = timm.create_model(\"vit_base_patch32_384\", pretrained=False)\n",
        "model_vit_3.load_state_dict(torch.load(MODEL_PATH_3))\n",
        "\n",
        "config = resolve_data_config({}, model=model_vit_3)\n",
        "transform_3 = create_transform(**config)\n",
        "\n",
        "model_vit_3 = model_vit_3.to(device)"
      ],
      "metadata": {
        "execution": {
          "iopub.status.busy": "2024-08-20T07:58:20.778819Z",
          "iopub.execute_input": "2024-08-20T07:58:20.779169Z",
          "iopub.status.idle": "2024-08-20T07:58:27.199742Z",
          "shell.execute_reply.started": "2024-08-20T07:58:20.779142Z",
          "shell.execute_reply": "2024-08-20T07:58:27.198738Z"
        },
        "trusted": true,
        "id": "7Ez_Mf6MzXqy"
      },
      "outputs": [],
      "execution_count": null
    },
    {
      "cell_type": "code",
      "source": [
        "class dataset_ViT:\n",
        "    def __init__(self, df, directory, transform, doflip=False, test=False):\n",
        "        self.df = df\n",
        "        self.directory = directory\n",
        "        self.transform = transform\n",
        "        self.doflip = doflip\n",
        "        self.test = test\n",
        "\n",
        "    def __len__(self):\n",
        "        return len(self.df)\n",
        "\n",
        "    def __getitem__(self, idx):\n",
        "        split = 'test' if self.test else 'train'\n",
        "        filename = self.df.Id[idx]\n",
        "        address = os.path.join(self.directory, split, filename+'.jpg')\n",
        "        image = Image.open(address).convert('RGB')\n",
        "        if self.doflip==True:\n",
        "            image = image.transpose(Image.FLIP_LEFT_RIGHT)\n",
        "            width, height = image.size\n",
        "            image = image.crop((0.0*width, 0.02*height, 0.98*width, 0.98 * height))\n",
        "\n",
        "        image = self.transform(image) # transform and add batch dimension\n",
        "\n",
        "        return image\n"
      ],
      "metadata": {
        "execution": {
          "iopub.status.busy": "2024-08-19T18:18:40.813126Z",
          "iopub.execute_input": "2024-08-19T18:18:40.813374Z",
          "iopub.status.idle": "2024-08-19T18:18:40.824366Z",
          "shell.execute_reply.started": "2024-08-19T18:18:40.813352Z",
          "shell.execute_reply": "2024-08-19T18:18:40.823494Z"
        },
        "trusted": true,
        "id": "N8EMqpvhzXqz"
      },
      "outputs": [],
      "execution_count": null
    },
    {
      "cell_type": "code",
      "source": [
        "def ViT_Extract(train_df, test_df, transform, model_vit, ExtractFrom, doflip, Filename, Train_Features_dict, Test_Features_dict):\n",
        "    print('\\n--- Extrcting features: ' + Filename.split('.')[0] + ' ---')\n",
        "    ExtractFromModel, Save, ExtractFromSaved = ExtractFrom\n",
        "    if ExtractFromModel and not ExtractFromSaved:\n",
        "        train_dataset = dataset_ViT(train_df, directory, transform, doflip=doflip, test=False)\n",
        "        train_dataloader = DataLoader(train_dataset, batch_size=64, shuffle=False)\n",
        "\n",
        "        test_dataset = dataset_ViT(test_df, directory, transform, doflip=False, test=True)\n",
        "        test_dataloader = DataLoader(test_dataset, batch_size=64, shuffle=False)\n",
        "\n",
        "        X = ExtractModelFeature(train_dataloader, model_vit)\n",
        "        X_test = ExtractModelFeature(test_dataloader, model_vit)\n",
        "\n",
        "        if Save==True:\n",
        "            with open(Filename, 'wb') as f:\n",
        "                np.save(f, X)\n",
        "                np.save(f, X_test)\n",
        "\n",
        "\n",
        "    elif ExtractFromSaved and not ExtractFromModel:\n",
        "        FilePath = os.path.join(Extracted_Data_directory, Filename)\n",
        "\n",
        "        with open(FilePath, 'rb') as f:\n",
        "            X = np.load(f)\n",
        "\n",
        "        test_dataset = dataset_ViT(test_df, directory, transform, doflip=doflip, test=True)\n",
        "        test_dataloader = DataLoader(test_dataset, batch_size=64, shuffle=False)\n",
        "        X_test = ExtractModelFeature(test_dataloader, model_vit)\n",
        "\n",
        "\n",
        "    else:\n",
        "        raise Exception(\"Please Select appropriate option\")\n",
        "\n",
        "\n",
        "    if ExtractFromModel or ExtractFromSaved:\n",
        "        print('train: ', X.shape)\n",
        "        print('test: ', X_test.shape)\n",
        "\n",
        "        name = Filename.split('.')[0]\n",
        "        Train_Features_dict[name] = X\n",
        "        Test_Features_dict[name] = X_test\n"
      ],
      "metadata": {
        "execution": {
          "iopub.status.busy": "2024-08-19T18:18:40.825451Z",
          "iopub.execute_input": "2024-08-19T18:18:40.825697Z",
          "iopub.status.idle": "2024-08-19T18:18:40.838638Z",
          "shell.execute_reply.started": "2024-08-19T18:18:40.825676Z",
          "shell.execute_reply": "2024-08-19T18:18:40.837909Z"
        },
        "trusted": true,
        "id": "p65F0SCRzXqz"
      },
      "outputs": [],
      "execution_count": null
    },
    {
      "cell_type": "code",
      "source": [
        "\n",
        "doflip = False\n",
        "\n",
        "## ViT_p16_224\n",
        "Filename = 'ViT_p16_224.npy'\n",
        "ViT_Extract(train_df, test_df, transform_1, model_vit_1, ExtractFrom, doflip, Filename, Train_Features_dict, Test_Features_dict)\n",
        "'''\n",
        "## ViT_p16_384\n",
        "Filename = 'ViT_p16_384.npy'\n",
        "ViT_Extract(train_df, test_df, transform_2, model_vit_2, ExtractFrom, doflip, Filename, Train_Features_dict, Test_Features_dict)\n",
        "'''\n",
        "## ViT_p32_384\n",
        "Filename = 'ViT_p32_384.npy'\n",
        "ViT_Extract(train_df, test_df, transform_3, model_vit_3, ExtractFrom, doflip, Filename, Train_Features_dict, Test_Features_dict)\n"
      ],
      "metadata": {
        "execution": {
          "iopub.status.busy": "2024-08-19T18:18:40.839744Z",
          "iopub.execute_input": "2024-08-19T18:18:40.840072Z",
          "iopub.status.idle": "2024-08-19T18:18:41.860331Z",
          "shell.execute_reply.started": "2024-08-19T18:18:40.840042Z",
          "shell.execute_reply": "2024-08-19T18:18:41.859439Z"
        },
        "trusted": true,
        "id": "uZPv5UqEzXq0"
      },
      "outputs": [],
      "execution_count": null
    },
    {
      "cell_type": "code",
      "source": [
        "\n",
        "doflip = True\n",
        "'''\n",
        "## ViT_p16_224_Flip\n",
        "Filename = 'ViT_p16_224_Flip.npy'\n",
        "ViT_Extract(train_df, test_df, transform_1, model_vit_1, ExtractFrom, doflip, Filename,  Train_Features_dict_Flip, Test_Features_dict_Flip)\n",
        "'''\n",
        "\n",
        "## ViT_p16_384_Flip\n",
        "Filename = 'ViT_p16_384_Flip.npy'\n",
        "ViT_Extract(train_df, test_df, transform_2, model_vit_2, ExtractFrom, doflip, Filename,  Train_Features_dict_Flip, Test_Features_dict_Flip)\n",
        "\n",
        "\n",
        "## ViT_p32_384_Flip\n",
        "Filename = 'ViT_p32_384_Flip.npy'\n",
        "ViT_Extract(train_df, test_df, transform_3, model_vit_3, ExtractFrom, doflip, Filename,  Train_Features_dict_Flip, Test_Features_dict_Flip)\n"
      ],
      "metadata": {
        "execution": {
          "iopub.status.busy": "2024-08-19T18:18:41.861573Z",
          "iopub.execute_input": "2024-08-19T18:18:41.861852Z",
          "iopub.status.idle": "2024-08-19T18:18:42.881309Z",
          "shell.execute_reply.started": "2024-08-19T18:18:41.861827Z",
          "shell.execute_reply": "2024-08-19T18:18:42.880360Z"
        },
        "trusted": true,
        "id": "AVwpRaOOzXq0"
      },
      "outputs": [],
      "execution_count": null
    },
    {
      "cell_type": "code",
      "source": [
        "del model_vit_1, model_vit_2, model_vit_3\n",
        "gc.collect()\n",
        "torch.cuda.empty_cache()"
      ],
      "metadata": {
        "execution": {
          "iopub.status.busy": "2024-08-19T18:18:42.882526Z",
          "iopub.execute_input": "2024-08-19T18:18:42.882869Z",
          "iopub.status.idle": "2024-08-19T18:18:43.137181Z",
          "shell.execute_reply.started": "2024-08-19T18:18:42.882841Z",
          "shell.execute_reply": "2024-08-19T18:18:43.136130Z"
        },
        "trusted": true,
        "id": "bfn60OyJzXq1"
      },
      "outputs": [],
      "execution_count": null
    },
    {
      "cell_type": "markdown",
      "source": [
        "# Clip"
      ],
      "metadata": {
        "id": "rYWDbcsmzXq3"
      }
    },
    {
      "cell_type": "code",
      "source": [
        "\n",
        "# --- Uncomment: for Clip to use ---\n",
        "from transformers import CLIPModel, CLIPProcessor\n",
        "\n",
        "# Adjust the paths to point to your extracted files\n",
        "model_path_1 = \"/kaggle/input/clip-vit/pytorch/b-32-laion2b-s34b-b79k/1\"\n",
        "model_path_2 = \"/kaggle/input/clip-vit/pytorch/h-14-laion2b-s32b-b79k/1\"\n",
        "model_path_3 = \"/kaggle/input/clip-vit/pytorch/l-14-datacomp-xl-s13b-b90k/1\"\n",
        "\n",
        "model_clip_1 = CLIPModel.from_pretrained(model_path_1)\n",
        "processor_clip_1 = CLIPProcessor.from_pretrained(model_path_1)\n",
        "\n",
        "model_clip_2 = CLIPModel.from_pretrained(model_path_2)\n",
        "processor_clip_2 = CLIPProcessor.from_pretrained(model_path_2)\n",
        "\n",
        "model_clip_3 = CLIPModel.from_pretrained(model_path_3)\n",
        "processor_clip_3 = CLIPProcessor.from_pretrained(model_path_3)\n",
        "\n",
        "model_clip_1 = model_clip_1.to(device)\n",
        "model_clip_2 = model_clip_2.to(device)\n",
        "model_clip_3 = model_clip_3.to(device)\n"
      ],
      "metadata": {
        "execution": {
          "iopub.status.busy": "2024-08-20T07:59:43.182592Z",
          "iopub.execute_input": "2024-08-20T07:59:43.182948Z",
          "iopub.status.idle": "2024-08-20T08:04:36.175807Z",
          "shell.execute_reply.started": "2024-08-20T07:59:43.182923Z",
          "shell.execute_reply": "2024-08-20T08:04:36.174829Z"
        },
        "trusted": true,
        "id": "rgr98qaOzXq3",
        "outputId": "a2f9bda9-9bde-47ea-d15e-cdb561b99565"
      },
      "outputs": [
        {
          "name": "stderr",
          "text": "/opt/conda/lib/python3.10/site-packages/torch/_utils.py:831: UserWarning: TypedStorage is deprecated. It will be removed in the future and UntypedStorage will be the only storage class. This should only matter to you if you are using storages directly.  To access UntypedStorage directly, use tensor.untyped_storage() instead of tensor.storage()\n  return self.fget.__get__(instance, owner)()\n2024-08-20 08:00:05.372944: E external/local_xla/xla/stream_executor/cuda/cuda_dnn.cc:9261] Unable to register cuDNN factory: Attempting to register factory for plugin cuDNN when one has already been registered\n2024-08-20 08:00:05.373085: E external/local_xla/xla/stream_executor/cuda/cuda_fft.cc:607] Unable to register cuFFT factory: Attempting to register factory for plugin cuFFT when one has already been registered\n2024-08-20 08:00:05.545667: E external/local_xla/xla/stream_executor/cuda/cuda_blas.cc:1515] Unable to register cuBLAS factory: Attempting to register factory for plugin cuBLAS when one has already been registered\n",
          "output_type": "stream"
        }
      ],
      "execution_count": null
    },
    {
      "cell_type": "code",
      "source": [
        "\n",
        "class dataset_Clip:\n",
        "    def __init__(self, df, directory, processor, doflip=False, test=False):\n",
        "        self.df = df\n",
        "        self.directory = directory\n",
        "        self.processor = processor\n",
        "        self.doflip = doflip\n",
        "        self.test = test\n",
        "\n",
        "    def __len__(self):\n",
        "        return len(self.df)\n",
        "\n",
        "    def __getitem__(self, idx):\n",
        "        split = 'test' if self.test else 'train'\n",
        "        filename = self.df.Id[idx]\n",
        "        address = os.path.join(self.directory, split, filename+'.jpg')\n",
        "        image=Image.open(address)\n",
        "        if self.doflip==True:\n",
        "            image = image.transpose(Image.FLIP_LEFT_RIGHT)\n",
        "            width, height = image.size\n",
        "            image = image.crop((0.0*width, 0.02*height, 0.98*width, 0.98 * height))\n",
        "        image = self.processor(images=image, return_tensors=\"pt\", padding=True)\n",
        "        for key, val in image.items():\n",
        "            image[key] = val.squeeze()\n",
        "\n",
        "        return image\n"
      ],
      "metadata": {
        "execution": {
          "iopub.status.busy": "2024-08-19T18:19:48.072540Z",
          "iopub.execute_input": "2024-08-19T18:19:48.073176Z",
          "iopub.status.idle": "2024-08-19T18:19:48.081840Z",
          "shell.execute_reply.started": "2024-08-19T18:19:48.073149Z",
          "shell.execute_reply": "2024-08-19T18:19:48.080992Z"
        },
        "trusted": true,
        "id": "ZECHXJOnzXq6"
      },
      "outputs": [],
      "execution_count": null
    },
    {
      "cell_type": "code",
      "source": [
        "def Clip_Extract(train_df, test_df, processor_clip, model_clip, ExtractFrom, doflip, Filename, Train_Features_dict, Test_Features_dict):\n",
        "\n",
        "    print('\\n--- Extracting features: ' + Filename.split('.')[0] + ' ---')\n",
        "\n",
        "    ExtractFromModel, Save, ExtractFromSaved = ExtractFrom\n",
        "\n",
        "    if ExtractFromModel and not ExtractFromSaved:\n",
        "        train_dataset = dataset_Clip(train_df, directory, processor_clip, doflip=doflip, test=False)\n",
        "        train_dataloader = DataLoader(train_dataset, batch_size=16, shuffle=False)\n",
        "\n",
        "        test_dataset = dataset_Clip(test_df, directory, processor_clip, test=True)\n",
        "        test_dataloader = DataLoader(test_dataset, batch_size=16, shuffle=False)\n",
        "\n",
        "        X = ExtractModelFeature(train_dataloader, model_clip)\n",
        "        X_test = ExtractModelFeature(test_dataloader, model_clip)\n",
        "\n",
        "        if Save:\n",
        "            with open(Filename, 'wb') as f:\n",
        "                np.save(f, X)\n",
        "                np.save(f, X_test)\n",
        "\n",
        "    elif ExtractFromSaved and not ExtractFromModel:\n",
        "        FilePath = os.path.join(Extracted_Data_directory, Filename)\n",
        "\n",
        "        with open(FilePath, 'rb') as f:\n",
        "            X = np.load(f)\n",
        "        test_dataset = dataset_Clip(test_df, directory, processor_clip, doflip=doflip, test=True)\n",
        "        test_dataloader = DataLoader(test_dataset, batch_size=16, shuffle=False)\n",
        "        X_test = ExtractModelFeature(test_dataloader, model_clip)\n",
        "\n",
        "    else:\n",
        "        raise Exception(\"Please Select appropriate option\")\n",
        "\n",
        "\n",
        "    if ExtractFromModel or ExtractFromSaved:\n",
        "        print('train: ', X.shape)\n",
        "        print('test: ', X_test.shape)\n",
        "\n",
        "        name = Filename.split('.')[0]\n",
        "        Train_Features_dict[name] = X\n",
        "        Test_Features_dict[name] = X_test\n",
        "\n"
      ],
      "metadata": {
        "execution": {
          "iopub.status.busy": "2024-08-19T18:19:48.113917Z",
          "iopub.execute_input": "2024-08-19T18:19:48.114736Z",
          "iopub.status.idle": "2024-08-19T18:19:48.126869Z",
          "shell.execute_reply.started": "2024-08-19T18:19:48.114701Z",
          "shell.execute_reply": "2024-08-19T18:19:48.125935Z"
        },
        "trusted": true,
        "id": "NcAAzLnWzXq8"
      },
      "outputs": [],
      "execution_count": null
    },
    {
      "cell_type": "code",
      "source": [
        "\n",
        "doflip = False\n",
        "\n",
        "# Clip_b_32\n",
        "Filename = 'Clip_b_32.npy'\n",
        "Clip_Extract(train_df, test_df, processor_clip_1, model_clip_1, ExtractFrom, doflip, Filename, Train_Features_dict, Test_Features_dict)\n",
        "\n",
        "# Clip_h_14\n",
        "Filename = 'Clip_h_14.npy'\n",
        "Clip_Extract(train_df, test_df, processor_clip_2, model_clip_2, ExtractFrom, doflip, Filename, Train_Features_dict, Test_Features_dict)\n",
        "\n",
        "# Clip_l_14\n",
        "Filename = 'Clip_l_14.npy'\n",
        "Clip_Extract(train_df, test_df, processor_clip_3, model_clip_3, ExtractFrom, doflip, Filename, Train_Features_dict, Test_Features_dict)\n",
        "\n"
      ],
      "metadata": {
        "execution": {
          "iopub.status.busy": "2024-08-19T18:19:48.128018Z",
          "iopub.execute_input": "2024-08-19T18:19:48.128583Z",
          "iopub.status.idle": "2024-08-19T18:19:50.415050Z",
          "shell.execute_reply.started": "2024-08-19T18:19:48.128553Z",
          "shell.execute_reply": "2024-08-19T18:19:50.414168Z"
        },
        "trusted": true,
        "id": "yLWIf_33zXq8"
      },
      "outputs": [],
      "execution_count": null
    },
    {
      "cell_type": "code",
      "source": [
        "doflip = True\n",
        "\n",
        "# Clip_b_32_Flip\n",
        "Filename = 'Clip_b_32_Flip.npy'\n",
        "Clip_Extract(train_df, test_df, processor_clip_1, model_clip_1, ExtractFrom, doflip, Filename, Train_Features_dict_Flip, Test_Features_dict_Flip)\n",
        "\n",
        "# Clip_h_14_Flip\n",
        "Filename = 'Clip_h_14_Flip.npy'\n",
        "Clip_Extract(train_df, test_df, processor_clip_2, model_clip_2, ExtractFrom, doflip, Filename, Train_Features_dict_Flip, Test_Features_dict_Flip)\n",
        "\n",
        "# Clip_l_14_Flip\n",
        "Filename = 'Clip_l_14_Flip.npy'\n",
        "Clip_Extract(train_df, test_df, processor_clip_3, model_clip_3, ExtractFrom, doflip, Filename, Train_Features_dict_Flip, Test_Features_dict_Flip)\n"
      ],
      "metadata": {
        "execution": {
          "iopub.status.busy": "2024-08-19T18:19:50.416401Z",
          "iopub.execute_input": "2024-08-19T18:19:50.416992Z",
          "iopub.status.idle": "2024-08-19T18:19:52.502377Z",
          "shell.execute_reply.started": "2024-08-19T18:19:50.416958Z",
          "shell.execute_reply": "2024-08-19T18:19:52.501517Z"
        },
        "trusted": true,
        "id": "PH5j-csozXq9"
      },
      "outputs": [],
      "execution_count": null
    },
    {
      "cell_type": "code",
      "source": [
        "del model_clip_1, model_clip_2, model_clip_3\n",
        "gc.collect()\n",
        "torch.cuda.empty_cache()"
      ],
      "metadata": {
        "execution": {
          "iopub.status.busy": "2024-08-19T18:19:52.503651Z",
          "iopub.execute_input": "2024-08-19T18:19:52.504021Z",
          "iopub.status.idle": "2024-08-19T18:19:53.024643Z",
          "shell.execute_reply.started": "2024-08-19T18:19:52.503995Z",
          "shell.execute_reply": "2024-08-19T18:19:53.023660Z"
        },
        "trusted": true,
        "id": "T10aHS5nzXq9"
      },
      "outputs": [],
      "execution_count": null
    },
    {
      "cell_type": "markdown",
      "source": [
        "# Swin"
      ],
      "metadata": {
        "id": "MT48G6MHzXq-"
      }
    },
    {
      "cell_type": "code",
      "source": [
        "\n",
        "class dataset_Swin:\n",
        "    def __init__(self, df, directory, transform, doflip=False, test=False):\n",
        "        self.df = df\n",
        "        self.directory = directory\n",
        "        self.transform = transform\n",
        "        self.doflip = doflip\n",
        "        self.test = test\n",
        "\n",
        "    def __len__(self):\n",
        "        return len(self.df)\n",
        "\n",
        "    def __getitem__(self, idx):\n",
        "        split = 'test' if self.test else 'train'\n",
        "        filename = self.df.Id[idx]\n",
        "        address = os.path.join(self.directory, split, filename+'.jpg')\n",
        "        img = Image.open(address).convert('RGB')\n",
        "\n",
        "        if self.doflip==True:\n",
        "            img = img.transpose(Image.FLIP_LEFT_RIGHT)\n",
        "            width, height = img.size\n",
        "            img = img.crop((0.0*width, 0.02*height, 0.98*width, 0.98 * height))\n",
        "\n",
        "        image = self.transform(img) # transform and add batch dimension\n",
        "\n",
        "        return image\n"
      ],
      "metadata": {
        "execution": {
          "iopub.status.busy": "2024-08-19T18:19:53.031696Z",
          "iopub.execute_input": "2024-08-19T18:19:53.031997Z",
          "iopub.status.idle": "2024-08-19T18:19:53.041126Z",
          "shell.execute_reply.started": "2024-08-19T18:19:53.031973Z",
          "shell.execute_reply": "2024-08-19T18:19:53.040189Z"
        },
        "trusted": true,
        "id": "ctU4pdAszXq-"
      },
      "outputs": [],
      "execution_count": null
    },
    {
      "cell_type": "code",
      "source": [
        "ckp_path = '/kaggle/input/pretrained-models-pawpularity/swin_large_patch4_window12_384.pth'\n",
        "model_swin = timm.create_model('swin_large_patch4_window12_384', checkpoint_path=ckp_path)\n",
        "\n",
        "config = resolve_data_config({}, model=model_swin)\n",
        "transform = create_transform(**config)\n",
        "\n",
        "model_swin = model_swin.to(device)"
      ],
      "metadata": {
        "execution": {
          "iopub.status.busy": "2024-08-20T08:06:22.677047Z",
          "iopub.execute_input": "2024-08-20T08:06:22.677467Z",
          "iopub.status.idle": "2024-08-20T08:06:34.287127Z",
          "shell.execute_reply.started": "2024-08-20T08:06:22.677434Z",
          "shell.execute_reply": "2024-08-20T08:06:34.286187Z"
        },
        "trusted": true,
        "id": "9Mt8n_fczXq-"
      },
      "outputs": [],
      "execution_count": null
    },
    {
      "cell_type": "code",
      "source": [
        "\n",
        "def Swin_Extract(train_df, test_df, transform, model, ExtractFrom, doflip, Filename, Train_Features_dict, Test_Features_dict):\n",
        "    print('\\n---Extracting features: ' + Filename.split('.')[0] + '---')\n",
        "    ExtractFromModel, Save, ExtractFromSaved = ExtractFrom\n",
        "\n",
        "\n",
        "    if ExtractFromModel and not ExtractFromSaved:\n",
        "        train_dataset = dataset_Swin(train_df, directory, transform, doflip=doflip, test=False)\n",
        "        train_dataloader = DataLoader(train_dataset, batch_size=16, shuffle=False)\n",
        "\n",
        "        test_dataset = dataset_Swin(test_df, directory, transform, test=True)\n",
        "        test_dataloader = DataLoader(test_dataset, batch_size=16, shuffle=False)\n",
        "\n",
        "\n",
        "        X = ExtractModelFeature(train_dataloader, model)\n",
        "        X_test = ExtractModelFeature(test_dataloader, model)\n",
        "\n",
        "        if Save==True:\n",
        "            with open(Filename, 'wb') as f:\n",
        "                np.save(f, X)\n",
        "                np.save(f, X_test)\n",
        "\n",
        "    elif ExtractFromSaved and not ExtractFromModel:\n",
        "        FilePath = os.path.join(Extracted_Data_directory, Filename)\n",
        "        with open(FilePath, 'rb') as f:\n",
        "            X = np.load(f)\n",
        "\n",
        "        test_dataset = dataset_Swin(test_df, directory, transform, doflip=doflip, test=True)\n",
        "        test_dataloader = DataLoader(test_dataset, batch_size=16, shuffle=False)\n",
        "        X_test = ExtractModelFeature(test_dataloader, model)\n",
        "\n",
        "\n",
        "    else:\n",
        "        raise Exception(\"Please Select appropriate option\")\n",
        "\n",
        "\n",
        "    if ExtractFromModel or ExtractFromSaved:\n",
        "        print('train: ', X.shape)\n",
        "        print('test: ', X_test.shape)\n",
        "\n",
        "        name = Filename.split('.')[0]\n",
        "        Train_Features_dict[name] = X\n",
        "        Test_Features_dict[name] = X_test\n"
      ],
      "metadata": {
        "execution": {
          "iopub.status.busy": "2024-08-19T18:29:14.627379Z",
          "iopub.execute_input": "2024-08-19T18:29:14.627868Z",
          "iopub.status.idle": "2024-08-19T18:29:14.641575Z",
          "shell.execute_reply.started": "2024-08-19T18:29:14.627818Z",
          "shell.execute_reply": "2024-08-19T18:29:14.640021Z"
        },
        "trusted": true,
        "id": "TAfnXtpazXq_"
      },
      "outputs": [],
      "execution_count": null
    },
    {
      "cell_type": "code",
      "source": [
        "doflip = False\n",
        "Filename = 'SwinL_12_3.npy'\n",
        "\n",
        "Swin_Extract(train_df, test_df, transform, model_swin, ExtractFrom, doflip, Filename, Train_Features_dict, Test_Features_dict)"
      ],
      "metadata": {
        "execution": {
          "iopub.status.busy": "2024-08-19T18:29:14.643400Z",
          "iopub.execute_input": "2024-08-19T18:29:14.644636Z",
          "iopub.status.idle": "2024-08-19T18:29:15.314956Z",
          "shell.execute_reply.started": "2024-08-19T18:29:14.644597Z",
          "shell.execute_reply": "2024-08-19T18:29:15.313898Z"
        },
        "trusted": true,
        "id": "dG2cL7KgzXq_"
      },
      "outputs": [],
      "execution_count": null
    },
    {
      "cell_type": "code",
      "source": [
        "del model_swin\n",
        "gc.collect()\n",
        "torch.cuda.empty_cache()"
      ],
      "metadata": {
        "execution": {
          "iopub.status.busy": "2024-08-19T18:29:17.454052Z",
          "iopub.execute_input": "2024-08-19T18:29:17.454863Z",
          "iopub.status.idle": "2024-08-19T18:29:17.862227Z",
          "shell.execute_reply.started": "2024-08-19T18:29:17.454833Z",
          "shell.execute_reply": "2024-08-19T18:29:17.861446Z"
        },
        "trusted": true,
        "id": "6XyW88cdzXrA"
      },
      "outputs": [],
      "execution_count": null
    },
    {
      "cell_type": "markdown",
      "source": [
        "# Beit"
      ],
      "metadata": {
        "id": "oTcuIILRzXrA"
      }
    },
    {
      "cell_type": "code",
      "source": [
        "\n",
        "class dataset_Beit:\n",
        "    def __init__(self, df, directory, transform, doflip=False, test=False):\n",
        "        self.df = df\n",
        "        self.directory = directory\n",
        "        self.transform = transform\n",
        "        self.doflip = doflip\n",
        "        self.test = test\n",
        "\n",
        "    def __len__(self):\n",
        "        return len(self.df)\n",
        "\n",
        "    def __getitem__(self, idx):\n",
        "        split = 'test' if self.test else 'train'\n",
        "        filename = self.df.Id[idx]\n",
        "        address = os.path.join(self.directory, split, filename+'.jpg')\n",
        "        img = Image.open(address).convert('RGB')\n",
        "\n",
        "        if self.doflip==True:\n",
        "            img = img.transpose(Image.FLIP_LEFT_RIGHT)\n",
        "            width, height = img.size\n",
        "            img = img.crop((0.0*width, 0.02*height, 0.98*width, 0.98 * height))\n",
        "\n",
        "        image = self.transform(img) # transform and add batch dimension\n",
        "\n",
        "        return image\n"
      ],
      "metadata": {
        "execution": {
          "iopub.status.busy": "2024-08-19T18:29:20.095068Z",
          "iopub.execute_input": "2024-08-19T18:29:20.095915Z",
          "iopub.status.idle": "2024-08-19T18:29:20.104210Z",
          "shell.execute_reply.started": "2024-08-19T18:29:20.095876Z",
          "shell.execute_reply": "2024-08-19T18:29:20.103162Z"
        },
        "trusted": true,
        "id": "BzEehXnyzXrB"
      },
      "outputs": [],
      "execution_count": null
    },
    {
      "cell_type": "code",
      "source": [
        "ckp_path = '/kaggle/input/pretrained-models-pawpularity/beit_large_patch16_384.pth'\n",
        "model_beit = timm.create_model('beit_large_patch16_384', checkpoint_path=ckp_path)\n",
        "\n",
        "config = resolve_data_config({}, model=model_beit)\n",
        "transform = create_transform(**config)\n",
        "\n",
        "model_beit = model_beit.to(device)"
      ],
      "metadata": {
        "execution": {
          "iopub.status.busy": "2024-08-20T08:07:01.428653Z",
          "iopub.execute_input": "2024-08-20T08:07:01.429447Z",
          "iopub.status.idle": "2024-08-20T08:07:18.277096Z",
          "shell.execute_reply.started": "2024-08-20T08:07:01.429413Z",
          "shell.execute_reply": "2024-08-20T08:07:18.276258Z"
        },
        "trusted": true,
        "id": "Nwi9AFqNzXrB"
      },
      "outputs": [],
      "execution_count": null
    },
    {
      "cell_type": "code",
      "source": [
        "\n",
        "def Beit_Extract(train_df, test_df, transform, model, ExtractFrom, doflip, Filename, Train_Features_dict, Test_Features_dict):\n",
        "    print('\\n---Extracting features: ' + Filename.split('.')[0] + '---')\n",
        "    ExtractFromModel, Save, ExtractFromSaved = ExtractFrom\n",
        "\n",
        "\n",
        "    if ExtractFromModel and not ExtractFromSaved:\n",
        "        train_dataset = dataset_Beit(train_df, directory, transform, doflip=doflip, test=False)\n",
        "        train_dataloader = DataLoader(train_dataset, batch_size=16, shuffle=False)\n",
        "\n",
        "        test_dataset = dataset_Beit(test_df, directory, transform, test=True)\n",
        "        test_dataloader = DataLoader(test_dataset, batch_size=16, shuffle=False)\n",
        "\n",
        "\n",
        "        X = ExtractModelFeature(train_dataloader, model)\n",
        "        X_test = ExtractModelFeature(test_dataloader, model)\n",
        "\n",
        "        if Save==True:\n",
        "            with open(Filename, 'wb') as f:\n",
        "                np.save(f, X)\n",
        "                np.save(f, X_test)\n",
        "\n",
        "    elif ExtractFromSaved and not ExtractFromModel:\n",
        "        FilePath = os.path.join(Extracted_Data_directory, Filename)\n",
        "        with open(FilePath, 'rb') as f:\n",
        "            X = np.load(f)\n",
        "\n",
        "        test_dataset = dataset_Beit(test_df, directory, transform, doflip=doflip, test=True)\n",
        "        test_dataloader = DataLoader(test_dataset, batch_size=16, shuffle=False)\n",
        "        X_test = ExtractModelFeature(test_dataloader, model)\n",
        "\n",
        "\n",
        "    else:\n",
        "        raise Exception(\"Please Select appropriate option\")\n",
        "\n",
        "\n",
        "    if ExtractFromModel or ExtractFromSaved:\n",
        "        print('train: ', X.shape)\n",
        "        print('test: ', X_test.shape)\n",
        "\n",
        "        name = Filename.split('.')[0]\n",
        "        Train_Features_dict[name] = X\n",
        "        Test_Features_dict[name] = X_test\n"
      ],
      "metadata": {
        "execution": {
          "iopub.status.busy": "2024-08-19T18:29:26.413884Z",
          "iopub.execute_input": "2024-08-19T18:29:26.414183Z",
          "iopub.status.idle": "2024-08-19T18:29:26.425035Z",
          "shell.execute_reply.started": "2024-08-19T18:29:26.414159Z",
          "shell.execute_reply": "2024-08-19T18:29:26.423932Z"
        },
        "trusted": true,
        "id": "RIOLHdUhzXrC"
      },
      "outputs": [],
      "execution_count": null
    },
    {
      "cell_type": "code",
      "source": [
        "doflip = False\n",
        "Filename = 'BeitL_16_3.npy'\n",
        "\n",
        "Beit_Extract(train_df, test_df, transform, model_beit, ExtractFrom, doflip, Filename, Train_Features_dict, Test_Features_dict)"
      ],
      "metadata": {
        "execution": {
          "iopub.status.busy": "2024-08-19T18:29:26.426167Z",
          "iopub.execute_input": "2024-08-19T18:29:26.426407Z",
          "iopub.status.idle": "2024-08-19T18:29:27.436007Z",
          "shell.execute_reply.started": "2024-08-19T18:29:26.426386Z",
          "shell.execute_reply": "2024-08-19T18:29:27.435088Z"
        },
        "trusted": true,
        "id": "YlMyoQxhzXrC"
      },
      "outputs": [],
      "execution_count": null
    },
    {
      "cell_type": "code",
      "source": [
        "del model_beit\n",
        "gc.collect()\n",
        "torch.cuda.empty_cache()"
      ],
      "metadata": {
        "execution": {
          "iopub.status.busy": "2024-08-19T18:29:31.514253Z",
          "iopub.execute_input": "2024-08-19T18:29:31.515031Z",
          "iopub.status.idle": "2024-08-19T18:29:31.921211Z",
          "shell.execute_reply.started": "2024-08-19T18:29:31.514998Z",
          "shell.execute_reply": "2024-08-19T18:29:31.920433Z"
        },
        "trusted": true,
        "id": "ZLNQ3ylezXrD"
      },
      "outputs": [],
      "execution_count": null
    },
    {
      "cell_type": "code",
      "source": [
        "def Meta_Extract(train_df, test_df, Train_Features_dict, Test_Features_dict):\n",
        "    name = 'meta'\n",
        "\n",
        "    X = train_df.iloc[:,1:13].values\n",
        "    X_test = test_df.iloc[:,1:13].values\n",
        "\n",
        "    Train_Features_dict[name] = X\n",
        "    Test_Features_dict[name] = X_test"
      ],
      "metadata": {
        "execution": {
          "iopub.status.busy": "2024-08-19T18:20:22.004678Z",
          "iopub.execute_input": "2024-08-19T18:20:22.005031Z",
          "iopub.status.idle": "2024-08-19T18:20:22.010642Z",
          "shell.execute_reply.started": "2024-08-19T18:20:22.005000Z",
          "shell.execute_reply": "2024-08-19T18:20:22.009757Z"
        },
        "trusted": true,
        "id": "o81slW4qzXrD"
      },
      "outputs": [],
      "execution_count": null
    },
    {
      "cell_type": "code",
      "source": [
        "Meta_Extract(train_df, test_df, Train_Features_dict, Test_Features_dict)"
      ],
      "metadata": {
        "execution": {
          "iopub.status.busy": "2024-08-19T18:20:22.011665Z",
          "iopub.execute_input": "2024-08-19T18:20:22.011904Z",
          "iopub.status.idle": "2024-08-19T18:20:22.030282Z",
          "shell.execute_reply.started": "2024-08-19T18:20:22.011884Z",
          "shell.execute_reply": "2024-08-19T18:20:22.029517Z"
        },
        "trusted": true,
        "id": "ATNnCLYBzXrE"
      },
      "outputs": [],
      "execution_count": null
    },
    {
      "cell_type": "code",
      "source": [
        "Meta_Extract(train_df, test_df, Train_Features_dict_Flip, Test_Features_dict_Flip)"
      ],
      "metadata": {
        "execution": {
          "iopub.status.busy": "2024-08-19T18:20:22.031413Z",
          "iopub.execute_input": "2024-08-19T18:20:22.031706Z",
          "iopub.status.idle": "2024-08-19T18:20:22.041491Z",
          "shell.execute_reply.started": "2024-08-19T18:20:22.031678Z",
          "shell.execute_reply": "2024-08-19T18:20:22.040618Z"
        },
        "trusted": true,
        "id": "SNb7506czXrE"
      },
      "outputs": [],
      "execution_count": null
    },
    {
      "cell_type": "markdown",
      "source": [
        "# Stack all data"
      ],
      "metadata": {
        "id": "jOpPEenLzXrG"
      }
    },
    {
      "cell_type": "code",
      "source": [
        "for key, val in Train_Features_dict.items():\n",
        "    print(key, '\\t', val.shape)"
      ],
      "metadata": {
        "execution": {
          "iopub.status.busy": "2024-08-19T18:20:22.079678Z",
          "iopub.execute_input": "2024-08-19T18:20:22.080324Z",
          "iopub.status.idle": "2024-08-19T18:20:22.088415Z",
          "shell.execute_reply.started": "2024-08-19T18:20:22.080293Z",
          "shell.execute_reply": "2024-08-19T18:20:22.087500Z"
        },
        "trusted": true,
        "id": "GyVNoB-DzXrG"
      },
      "outputs": [],
      "execution_count": null
    },
    {
      "cell_type": "code",
      "source": [
        "for key, val in Train_Features_dict_Flip.items():\n",
        "    print(key, '\\t', val.shape)"
      ],
      "metadata": {
        "execution": {
          "iopub.status.busy": "2024-08-19T18:20:22.089437Z",
          "iopub.execute_input": "2024-08-19T18:20:22.089691Z",
          "iopub.status.idle": "2024-08-19T18:20:22.101013Z",
          "shell.execute_reply.started": "2024-08-19T18:20:22.089669Z",
          "shell.execute_reply": "2024-08-19T18:20:22.100196Z"
        },
        "trusted": true,
        "id": "Dwr7cs8yzXrH"
      },
      "outputs": [],
      "execution_count": null
    },
    {
      "cell_type": "code",
      "source": [
        "All_model_list = ['EfficientNet_b6', 'EfficientNet_l2_ns_475',\n",
        "                  'ViT_p16_224', 'ViT_p16_384', 'ViT_p32_384',\n",
        "                  'Clip_b_32', 'Clip_h_14', 'Clip_l_14',\n",
        "                  'SwinL_12_3', 'BeitL_16_3'\n",
        "                  'meta']\n",
        "model_list_A = ['EfficientNet_l2_ns_475', 'ViT_p16_224', 'ViT_p32_384',\n",
        "                'Clip_b_32', 'Clip_h_14', 'Clip_l_14', 'meta']\n",
        "model_list_B = ['SwinL_12_3', 'BeitL_16_3', 'Clip_h_14', 'meta']\n",
        "\n",
        "#ALL_model_list_flip = ['EfficientNet_b6_Flip', 'EfficientNet_l2_ns_475_Flip',\n",
        "#              'ViT_p16_224_Flip', 'ViT_p16_384_Flip', 'ViT_p32_384_Flip',\n",
        "#              'Clip_b_32_Flip', 'Clip_h_14_Flip', 'Clip_l_14_Flip',\n",
        "#              'meta']\n",
        "\n",
        "model_list_Flip = ['EfficientNet_l2_ns_475_Flip', 'ViT_p16_384_Flip', 'ViT_p32_384_Flip',\n",
        "                  'Clip_b_32_Flip', 'Clip_h_14_Flip', 'Clip_l_14_Flip', 'meta']"
      ],
      "metadata": {
        "execution": {
          "iopub.status.busy": "2024-08-19T18:26:52.460081Z",
          "iopub.execute_input": "2024-08-19T18:26:52.461289Z",
          "iopub.status.idle": "2024-08-19T18:26:52.467282Z",
          "shell.execute_reply.started": "2024-08-19T18:26:52.461254Z",
          "shell.execute_reply": "2024-08-19T18:26:52.466179Z"
        },
        "trusted": true,
        "id": "EITNn7P4zXrH"
      },
      "outputs": [],
      "execution_count": null
    },
    {
      "cell_type": "code",
      "source": [
        "\n",
        "X = np.concatenate([Train_Features_dict[model] for model in model_list_A], axis=1)\n",
        "X_test = np.concatenate([Test_Features_dict[model] for model in model_list_A], axis=1)\n",
        "\n",
        "print('X shape: ', X.shape)\n",
        "print('X_test shape: ', X_test.shape)"
      ],
      "metadata": {
        "execution": {
          "iopub.status.busy": "2024-08-19T18:26:55.324679Z",
          "iopub.execute_input": "2024-08-19T18:26:55.325586Z",
          "iopub.status.idle": "2024-08-19T18:26:55.460849Z",
          "shell.execute_reply.started": "2024-08-19T18:26:55.325550Z",
          "shell.execute_reply": "2024-08-19T18:26:55.459862Z"
        },
        "trusted": true,
        "id": "qIGW0GDdzXrI"
      },
      "outputs": [],
      "execution_count": null
    },
    {
      "cell_type": "code",
      "source": [
        "\n",
        "X_B = np.concatenate([Train_Features_dict[model] for model in model_list_B], axis=1)\n",
        "X_test_B = np.concatenate([Test_Features_dict[model] for model in model_list_B], axis=1)\n",
        "\n",
        "print('X shape: ', X_B.shape)\n",
        "print('X_test shape: ', X_test_B.shape)\n"
      ],
      "metadata": {
        "execution": {
          "iopub.status.busy": "2024-08-19T18:29:46.300992Z",
          "iopub.execute_input": "2024-08-19T18:29:46.301962Z",
          "iopub.status.idle": "2024-08-19T18:29:46.383810Z",
          "shell.execute_reply.started": "2024-08-19T18:29:46.301921Z",
          "shell.execute_reply": "2024-08-19T18:29:46.382669Z"
        },
        "trusted": true,
        "id": "616VDxgMzXrI"
      },
      "outputs": [],
      "execution_count": null
    },
    {
      "cell_type": "code",
      "source": [
        "\n",
        "X_Flip = np.concatenate([Train_Features_dict_Flip[model] for model in Train_Features_dict_Flip.keys()], axis=1)\n",
        "X_test_Flip = np.concatenate([Test_Features_dict_Flip[model] for model in Test_Features_dict_Flip.keys()], axis=1)\n",
        "\n",
        "print('X shape: ', X_Flip.shape)\n",
        "print('X_test shape: ', X_test_Flip.shape)"
      ],
      "metadata": {
        "execution": {
          "iopub.status.busy": "2024-08-19T18:29:54.110017Z",
          "iopub.execute_input": "2024-08-19T18:29:54.110401Z",
          "iopub.status.idle": "2024-08-19T18:29:54.245987Z",
          "shell.execute_reply.started": "2024-08-19T18:29:54.110373Z",
          "shell.execute_reply": "2024-08-19T18:29:54.245037Z"
        },
        "trusted": true,
        "id": "4PPX8VADzXrJ"
      },
      "outputs": [],
      "execution_count": null
    },
    {
      "cell_type": "code",
      "source": [
        "y = train_df.Pawpularity.values\n",
        "print(y)"
      ],
      "metadata": {
        "execution": {
          "iopub.status.busy": "2024-08-19T18:26:55.880015Z",
          "iopub.execute_input": "2024-08-19T18:26:55.880597Z",
          "iopub.status.idle": "2024-08-19T18:26:55.885897Z",
          "shell.execute_reply.started": "2024-08-19T18:26:55.880570Z",
          "shell.execute_reply": "2024-08-19T18:26:55.884788Z"
        },
        "trusted": true,
        "id": "pQrLTlpzzXrJ"
      },
      "outputs": [],
      "execution_count": null
    },
    {
      "cell_type": "code",
      "source": [
        "'''\n",
        "del Train_Features_dict, Test_Features_dict, Train_Features_dict_Flip, Test_Features_dict_Flip\n",
        "#del my_object\n",
        "torch.cuda.empty_cache()\n",
        "gc.collect()\n",
        "'''"
      ],
      "metadata": {
        "execution": {
          "iopub.status.busy": "2024-08-19T18:26:58.077528Z",
          "iopub.execute_input": "2024-08-19T18:26:58.078172Z",
          "iopub.status.idle": "2024-08-19T18:26:58.083780Z",
          "shell.execute_reply.started": "2024-08-19T18:26:58.078144Z",
          "shell.execute_reply": "2024-08-19T18:26:58.082821Z"
        },
        "trusted": true,
        "id": "ljaSY6F2zXrK"
      },
      "outputs": [],
      "execution_count": null
    },
    {
      "cell_type": "code",
      "source": [],
      "metadata": {
        "trusted": true,
        "id": "ySisLf2MzXrK"
      },
      "outputs": [],
      "execution_count": null
    },
    {
      "cell_type": "markdown",
      "source": [
        "# Preprocess: transforms"
      ],
      "metadata": {
        "id": "mGwIVkHmzXrK"
      }
    },
    {
      "cell_type": "code",
      "source": [
        "from sklearn.preprocessing import Normalizer\n",
        "from sklearn.preprocessing import StandardScaler\n",
        "\n",
        "\n",
        "def Normalizer_StandardScaler(X, X_test):\n",
        "    transformer = Normalizer().fit(np.vstack((X, X_test)))  # fit does nothing.\n",
        "    X = transformer.transform(X)\n",
        "    X_test = transformer.transform(X_test)\n",
        "\n",
        "    scaler = StandardScaler()\n",
        "    scaler.fit(np.vstack((X, X_test)))\n",
        "    X = scaler.transform(X)\n",
        "    X_test = scaler.transform(X_test)\n",
        "\n",
        "    print('X(Shape): ', X.shape)\n",
        "    print('X_test(Shape): ', X_test.shape)\n",
        "    return X, X_test\n",
        "\n",
        "def StandardScaler_(X, X_test):\n",
        "    scaler = StandardScaler()\n",
        "    scaler.fit(np.vstack((X, X_test)))\n",
        "    X = scaler.transform(X)\n",
        "    X_test = scaler.transform(X_test)\n",
        "\n",
        "    print('X(Shape): ', X.shape)\n",
        "    print('X_test(Shape): ', X_test.shape)\n",
        "    return X, X_test"
      ],
      "metadata": {
        "execution": {
          "iopub.status.busy": "2024-08-19T18:27:00.197776Z",
          "iopub.execute_input": "2024-08-19T18:27:00.198421Z",
          "iopub.status.idle": "2024-08-19T18:27:00.205983Z",
          "shell.execute_reply.started": "2024-08-19T18:27:00.198394Z",
          "shell.execute_reply": "2024-08-19T18:27:00.205143Z"
        },
        "trusted": true,
        "id": "LL6ZDz6czXrM"
      },
      "outputs": [],
      "execution_count": null
    },
    {
      "cell_type": "code",
      "source": [
        "X, X_test = Normalizer_StandardScaler(X, X_test)"
      ],
      "metadata": {
        "execution": {
          "iopub.status.busy": "2024-08-19T18:27:00.331706Z",
          "iopub.execute_input": "2024-08-19T18:27:00.331967Z",
          "iopub.status.idle": "2024-08-19T18:27:01.703571Z",
          "shell.execute_reply.started": "2024-08-19T18:27:00.331946Z",
          "shell.execute_reply": "2024-08-19T18:27:01.702549Z"
        },
        "trusted": true,
        "id": "TRpvugyAzXrN"
      },
      "outputs": [],
      "execution_count": null
    },
    {
      "cell_type": "code",
      "source": [
        "X_B, X_test_B = Normalizer_StandardScaler(X_B, X_test_B)"
      ],
      "metadata": {
        "execution": {
          "iopub.status.busy": "2024-08-19T18:30:00.950935Z",
          "iopub.execute_input": "2024-08-19T18:30:00.951324Z",
          "iopub.status.idle": "2024-08-19T18:30:01.751687Z",
          "shell.execute_reply.started": "2024-08-19T18:30:00.951296Z",
          "shell.execute_reply": "2024-08-19T18:30:01.750704Z"
        },
        "trusted": true,
        "id": "pl6WpeaVzXrN"
      },
      "outputs": [],
      "execution_count": null
    },
    {
      "cell_type": "code",
      "source": [
        "X_Flip, X_test_Flip = Normalizer_StandardScaler(X_Flip, X_test_Flip)"
      ],
      "metadata": {
        "execution": {
          "iopub.status.busy": "2024-08-19T18:27:02.514673Z",
          "iopub.execute_input": "2024-08-19T18:27:02.515172Z",
          "iopub.status.idle": "2024-08-19T18:27:03.917939Z",
          "shell.execute_reply.started": "2024-08-19T18:27:02.515123Z",
          "shell.execute_reply": "2024-08-19T18:27:03.916997Z"
        },
        "trusted": true,
        "id": "h4kmI4cZzXrN"
      },
      "outputs": [],
      "execution_count": null
    },
    {
      "cell_type": "markdown",
      "source": [
        "# SVR"
      ],
      "metadata": {
        "id": "P0wuFBdBzXrO"
      }
    },
    {
      "cell_type": "code",
      "source": [
        "def RMSE(y, y_pred):\n",
        "    rsme = np.sqrt(np.mean( (y-y_pred)**2) )\n",
        "    return rsme"
      ],
      "metadata": {
        "execution": {
          "iopub.status.busy": "2024-08-19T18:27:05.296888Z",
          "iopub.execute_input": "2024-08-19T18:27:05.297223Z",
          "iopub.status.idle": "2024-08-19T18:27:05.301960Z",
          "shell.execute_reply.started": "2024-08-19T18:27:05.297197Z",
          "shell.execute_reply": "2024-08-19T18:27:05.301003Z"
        },
        "trusted": true,
        "id": "YZrsSFIWzXrO"
      },
      "outputs": [],
      "execution_count": null
    },
    {
      "cell_type": "code",
      "source": [
        "def svr_fit_predict(X, X_test, y, device, epsilon=5.6):\n",
        "    if device=='cuda':\n",
        "        print('--- cuML ---')\n",
        "        reg = SVR(C=16.0, kernel='rbf', degree=3, epsilon=epsilon, gamma='auto', max_iter=400000, output_type='numpy')\n",
        "        reg.fit(X, y)\n",
        "    else:\n",
        "        print('--- sklearn ---')\n",
        "        reg = SVR(C=16, kernel=\"rbf\", degree=3, epsilon=epsilon, gamma='auto')\n",
        "        reg.fit(X,y)\n",
        "\n",
        "    y_pred_train = reg.predict(X)\n",
        "    y_pred_test = reg.predict(X_test)\n",
        "\n",
        "    print('RMSE_train: ', RMSE(y, y_pred_train))\n",
        "\n",
        "    return y_pred_train, y_pred_test"
      ],
      "metadata": {
        "execution": {
          "iopub.status.busy": "2024-08-19T18:27:05.740355Z",
          "iopub.execute_input": "2024-08-19T18:27:05.741184Z",
          "iopub.status.idle": "2024-08-19T18:27:05.748020Z",
          "shell.execute_reply.started": "2024-08-19T18:27:05.741151Z",
          "shell.execute_reply": "2024-08-19T18:27:05.746986Z"
        },
        "trusted": true,
        "id": "jPAye91tzXrO"
      },
      "outputs": [],
      "execution_count": null
    },
    {
      "cell_type": "code",
      "source": [
        "y_pred_train_A, y_pred_test_A = svr_fit_predict(X, X_test, y, device)"
      ],
      "metadata": {
        "execution": {
          "iopub.status.busy": "2024-08-19T18:27:05.897085Z",
          "iopub.execute_input": "2024-08-19T18:27:05.897788Z",
          "iopub.status.idle": "2024-08-19T18:27:14.864229Z",
          "shell.execute_reply.started": "2024-08-19T18:27:05.897761Z",
          "shell.execute_reply": "2024-08-19T18:27:14.863278Z"
        },
        "trusted": true,
        "id": "GBwmZwkAzXrP"
      },
      "outputs": [],
      "execution_count": null
    },
    {
      "cell_type": "code",
      "source": [
        "y_pred_train_B, y_pred_test_B = svr_fit_predict(X_B, X_test_B, y, device)"
      ],
      "metadata": {
        "execution": {
          "iopub.status.busy": "2024-08-19T18:30:06.833099Z",
          "iopub.execute_input": "2024-08-19T18:30:06.833484Z",
          "iopub.status.idle": "2024-08-19T18:30:12.317317Z",
          "shell.execute_reply.started": "2024-08-19T18:30:06.833457Z",
          "shell.execute_reply": "2024-08-19T18:30:12.316340Z"
        },
        "trusted": true,
        "id": "0O312tOLzXrP"
      },
      "outputs": [],
      "execution_count": null
    },
    {
      "cell_type": "code",
      "source": [
        "y_pred_train_Flip, y_pred_test_Flip = svr_fit_predict(X_Flip, X_test_Flip, y, device)"
      ],
      "metadata": {
        "execution": {
          "iopub.status.busy": "2024-08-19T18:27:20.075972Z",
          "iopub.execute_input": "2024-08-19T18:27:20.076282Z",
          "iopub.status.idle": "2024-08-19T18:27:28.842766Z",
          "shell.execute_reply.started": "2024-08-19T18:27:20.076257Z",
          "shell.execute_reply": "2024-08-19T18:27:28.841720Z"
        },
        "trusted": true,
        "id": "l7PYOsZozXrP"
      },
      "outputs": [],
      "execution_count": null
    },
    {
      "cell_type": "code",
      "source": [
        "\n",
        "from scipy.optimize import minimize\n",
        "\n",
        "def min_func(K):\n",
        "    y_pred_train = K[0]*y_pred_train_A + K[1]*y_pred_train_B + K[2]*y_pred_train_Flip\n",
        "    return RMSE(y, y_pred_train)\n",
        "\n",
        "res = minimize(min_func, [1/3]*3, method='Nelder-Mead', tol=1e-1)\n",
        "K = res.x\n",
        "res\n"
      ],
      "metadata": {
        "execution": {
          "iopub.status.busy": "2024-08-19T18:20:50.874568Z",
          "iopub.execute_input": "2024-08-19T18:20:50.874857Z",
          "iopub.status.idle": "2024-08-19T18:20:50.889673Z",
          "shell.execute_reply.started": "2024-08-19T18:20:50.874831Z",
          "shell.execute_reply": "2024-08-19T18:20:50.888704Z"
        },
        "trusted": true,
        "id": "BiboSDPbzXrP"
      },
      "outputs": [],
      "execution_count": null
    },
    {
      "cell_type": "code",
      "source": [
        "y_pred_train = K[0]*y_pred_train_A + K[1]*y_pred_train_B + K[2]*y_pred_train_Flip\n",
        "y_pred_test = K[0]*y_pred_test_A + K[1]*y_pred_test_B + K[2]*y_pred_test_Flip\n",
        "\n",
        "print(K, RMSE(y, y_pred_train))"
      ],
      "metadata": {
        "execution": {
          "iopub.status.busy": "2024-08-19T18:20:50.896869Z",
          "iopub.execute_input": "2024-08-19T18:20:50.897263Z",
          "iopub.status.idle": "2024-08-19T18:20:50.907874Z",
          "shell.execute_reply.started": "2024-08-19T18:20:50.897228Z",
          "shell.execute_reply": "2024-08-19T18:20:50.906950Z"
        },
        "trusted": true,
        "id": "oOESl42WzXrQ"
      },
      "outputs": [],
      "execution_count": null
    },
    {
      "cell_type": "code",
      "source": [
        "# Sammple (Train) to Check\n",
        "print(\"Predicted values:\", y_pred_train[:10])\n",
        "print(\"True values: \", y[:10])\n"
      ],
      "metadata": {
        "execution": {
          "iopub.status.busy": "2024-08-19T18:20:50.908996Z",
          "iopub.execute_input": "2024-08-19T18:20:50.909402Z",
          "iopub.status.idle": "2024-08-19T18:20:50.918974Z",
          "shell.execute_reply.started": "2024-08-19T18:20:50.909379Z",
          "shell.execute_reply": "2024-08-19T18:20:50.917934Z"
        },
        "trusted": true,
        "id": "SYg_Szq2zXrQ"
      },
      "outputs": [],
      "execution_count": null
    },
    {
      "cell_type": "code",
      "source": [
        "print(\"Predicted values:\", y_pred_test)"
      ],
      "metadata": {
        "execution": {
          "iopub.status.busy": "2024-08-19T18:20:50.939568Z",
          "iopub.execute_input": "2024-08-19T18:20:50.940184Z",
          "iopub.status.idle": "2024-08-19T18:20:50.949306Z",
          "shell.execute_reply.started": "2024-08-19T18:20:50.940154Z",
          "shell.execute_reply": "2024-08-19T18:20:50.948321Z"
        },
        "trusted": true,
        "id": "c7HmdhSSzXrQ"
      },
      "outputs": [],
      "execution_count": null
    },
    {
      "cell_type": "code",
      "source": [
        "# Prepare the submission DataFrame\n",
        "submit = pd.DataFrame()\n",
        "submit['Id'] = test_df['Id']\n",
        "submit['Pawpularity'] = y_pred_test\n",
        "\n",
        "# Save the submission to a CSV file\n",
        "submit.to_csv('submission.csv', index=False)"
      ],
      "metadata": {
        "execution": {
          "iopub.status.busy": "2024-08-19T18:20:50.950519Z",
          "iopub.execute_input": "2024-08-19T18:20:50.950784Z",
          "iopub.status.idle": "2024-08-19T18:20:50.969551Z",
          "shell.execute_reply.started": "2024-08-19T18:20:50.950761Z",
          "shell.execute_reply": "2024-08-19T18:20:50.968666Z"
        },
        "trusted": true,
        "id": "RGpe8hd_zXrR"
      },
      "outputs": [],
      "execution_count": null
    },
    {
      "cell_type": "code",
      "source": [
        "submit"
      ],
      "metadata": {
        "execution": {
          "iopub.status.busy": "2024-08-19T18:20:50.970654Z",
          "iopub.execute_input": "2024-08-19T18:20:50.971613Z",
          "iopub.status.idle": "2024-08-19T18:20:50.987499Z",
          "shell.execute_reply.started": "2024-08-19T18:20:50.971589Z",
          "shell.execute_reply": "2024-08-19T18:20:50.986676Z"
        },
        "trusted": true,
        "id": "GFcciHsmzXrR"
      },
      "outputs": [],
      "execution_count": null
    },
    {
      "cell_type": "code",
      "source": [],
      "metadata": {
        "id": "klYjOizMzXrR"
      },
      "outputs": [],
      "execution_count": null
    }
  ]
}